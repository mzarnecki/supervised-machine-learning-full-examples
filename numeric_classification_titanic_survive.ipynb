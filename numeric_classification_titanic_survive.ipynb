{
 "cells": [
  {
   "cell_type": "code",
   "id": "2c69b6e8",
   "metadata": {
    "ExecuteTime": {
     "end_time": "2024-12-20T13:35:34.865581Z",
     "start_time": "2024-12-20T13:35:34.849890Z"
    }
   },
   "source": [
    "# !IMPORTANT - to run this notebook download first train_and_test2.csv dataset from https://www.kaggle.com/datasets/heptapod/titanic and put it in data/ folder\n",
    "\n",
    "# import libraries\n",
    "from sklearn.model_selection import train_test_split\n",
    "from sklearn import model_selection, preprocessing, linear_model, naive_bayes, metrics, svm, ensemble\n",
    "import numpy as np\n",
    "import pandas as pd\n",
    "import seaborn as sns\n",
    "import matplotlib.pyplot as plt\n",
    "\n",
    "# import .csv data into DataFrame\n",
    "passengers = pd.read_csv('data/train_and_test2.csv')\n",
    "passengers.head()\n"
   ],
   "outputs": [
    {
     "data": {
      "text/plain": [
       "   Passengerid   Age     Fare  Sex  sibsp  zero  zero.1  zero.2  zero.3  \\\n",
       "0            1  22.0   7.2500    0      1     0       0       0       0   \n",
       "1            2  38.0  71.2833    1      1     0       0       0       0   \n",
       "2            3  26.0   7.9250    1      0     0       0       0       0   \n",
       "3            4  35.0  53.1000    1      1     0       0       0       0   \n",
       "4            5  35.0   8.0500    0      0     0       0       0       0   \n",
       "\n",
       "   zero.4  ...  zero.12  zero.13  zero.14  Pclass  zero.15  zero.16  Embarked  \\\n",
       "0       0  ...        0        0        0       3        0        0       2.0   \n",
       "1       0  ...        0        0        0       1        0        0       0.0   \n",
       "2       0  ...        0        0        0       3        0        0       2.0   \n",
       "3       0  ...        0        0        0       1        0        0       2.0   \n",
       "4       0  ...        0        0        0       3        0        0       2.0   \n",
       "\n",
       "   zero.17  zero.18  2urvived  \n",
       "0        0        0         0  \n",
       "1        0        0         1  \n",
       "2        0        0         1  \n",
       "3        0        0         1  \n",
       "4        0        0         0  \n",
       "\n",
       "[5 rows x 28 columns]"
      ],
      "text/html": [
       "<div>\n",
       "<style scoped>\n",
       "    .dataframe tbody tr th:only-of-type {\n",
       "        vertical-align: middle;\n",
       "    }\n",
       "\n",
       "    .dataframe tbody tr th {\n",
       "        vertical-align: top;\n",
       "    }\n",
       "\n",
       "    .dataframe thead th {\n",
       "        text-align: right;\n",
       "    }\n",
       "</style>\n",
       "<table border=\"1\" class=\"dataframe\">\n",
       "  <thead>\n",
       "    <tr style=\"text-align: right;\">\n",
       "      <th></th>\n",
       "      <th>Passengerid</th>\n",
       "      <th>Age</th>\n",
       "      <th>Fare</th>\n",
       "      <th>Sex</th>\n",
       "      <th>sibsp</th>\n",
       "      <th>zero</th>\n",
       "      <th>zero.1</th>\n",
       "      <th>zero.2</th>\n",
       "      <th>zero.3</th>\n",
       "      <th>zero.4</th>\n",
       "      <th>...</th>\n",
       "      <th>zero.12</th>\n",
       "      <th>zero.13</th>\n",
       "      <th>zero.14</th>\n",
       "      <th>Pclass</th>\n",
       "      <th>zero.15</th>\n",
       "      <th>zero.16</th>\n",
       "      <th>Embarked</th>\n",
       "      <th>zero.17</th>\n",
       "      <th>zero.18</th>\n",
       "      <th>2urvived</th>\n",
       "    </tr>\n",
       "  </thead>\n",
       "  <tbody>\n",
       "    <tr>\n",
       "      <th>0</th>\n",
       "      <td>1</td>\n",
       "      <td>22.0</td>\n",
       "      <td>7.2500</td>\n",
       "      <td>0</td>\n",
       "      <td>1</td>\n",
       "      <td>0</td>\n",
       "      <td>0</td>\n",
       "      <td>0</td>\n",
       "      <td>0</td>\n",
       "      <td>0</td>\n",
       "      <td>...</td>\n",
       "      <td>0</td>\n",
       "      <td>0</td>\n",
       "      <td>0</td>\n",
       "      <td>3</td>\n",
       "      <td>0</td>\n",
       "      <td>0</td>\n",
       "      <td>2.0</td>\n",
       "      <td>0</td>\n",
       "      <td>0</td>\n",
       "      <td>0</td>\n",
       "    </tr>\n",
       "    <tr>\n",
       "      <th>1</th>\n",
       "      <td>2</td>\n",
       "      <td>38.0</td>\n",
       "      <td>71.2833</td>\n",
       "      <td>1</td>\n",
       "      <td>1</td>\n",
       "      <td>0</td>\n",
       "      <td>0</td>\n",
       "      <td>0</td>\n",
       "      <td>0</td>\n",
       "      <td>0</td>\n",
       "      <td>...</td>\n",
       "      <td>0</td>\n",
       "      <td>0</td>\n",
       "      <td>0</td>\n",
       "      <td>1</td>\n",
       "      <td>0</td>\n",
       "      <td>0</td>\n",
       "      <td>0.0</td>\n",
       "      <td>0</td>\n",
       "      <td>0</td>\n",
       "      <td>1</td>\n",
       "    </tr>\n",
       "    <tr>\n",
       "      <th>2</th>\n",
       "      <td>3</td>\n",
       "      <td>26.0</td>\n",
       "      <td>7.9250</td>\n",
       "      <td>1</td>\n",
       "      <td>0</td>\n",
       "      <td>0</td>\n",
       "      <td>0</td>\n",
       "      <td>0</td>\n",
       "      <td>0</td>\n",
       "      <td>0</td>\n",
       "      <td>...</td>\n",
       "      <td>0</td>\n",
       "      <td>0</td>\n",
       "      <td>0</td>\n",
       "      <td>3</td>\n",
       "      <td>0</td>\n",
       "      <td>0</td>\n",
       "      <td>2.0</td>\n",
       "      <td>0</td>\n",
       "      <td>0</td>\n",
       "      <td>1</td>\n",
       "    </tr>\n",
       "    <tr>\n",
       "      <th>3</th>\n",
       "      <td>4</td>\n",
       "      <td>35.0</td>\n",
       "      <td>53.1000</td>\n",
       "      <td>1</td>\n",
       "      <td>1</td>\n",
       "      <td>0</td>\n",
       "      <td>0</td>\n",
       "      <td>0</td>\n",
       "      <td>0</td>\n",
       "      <td>0</td>\n",
       "      <td>...</td>\n",
       "      <td>0</td>\n",
       "      <td>0</td>\n",
       "      <td>0</td>\n",
       "      <td>1</td>\n",
       "      <td>0</td>\n",
       "      <td>0</td>\n",
       "      <td>2.0</td>\n",
       "      <td>0</td>\n",
       "      <td>0</td>\n",
       "      <td>1</td>\n",
       "    </tr>\n",
       "    <tr>\n",
       "      <th>4</th>\n",
       "      <td>5</td>\n",
       "      <td>35.0</td>\n",
       "      <td>8.0500</td>\n",
       "      <td>0</td>\n",
       "      <td>0</td>\n",
       "      <td>0</td>\n",
       "      <td>0</td>\n",
       "      <td>0</td>\n",
       "      <td>0</td>\n",
       "      <td>0</td>\n",
       "      <td>...</td>\n",
       "      <td>0</td>\n",
       "      <td>0</td>\n",
       "      <td>0</td>\n",
       "      <td>3</td>\n",
       "      <td>0</td>\n",
       "      <td>0</td>\n",
       "      <td>2.0</td>\n",
       "      <td>0</td>\n",
       "      <td>0</td>\n",
       "      <td>0</td>\n",
       "    </tr>\n",
       "  </tbody>\n",
       "</table>\n",
       "<p>5 rows × 28 columns</p>\n",
       "</div>"
      ]
     },
     "execution_count": 4,
     "metadata": {},
     "output_type": "execute_result"
    }
   ],
   "execution_count": 4
  },
  {
   "cell_type": "code",
   "id": "dfaf5b84",
   "metadata": {
    "ExecuteTime": {
     "end_time": "2024-12-20T13:35:35.031245Z",
     "start_time": "2024-12-20T13:35:34.897080Z"
    }
   },
   "source": [
    "# Gender distribution\n",
    "passengers['Sex'].hist(bins=2) "
   ],
   "outputs": [
    {
     "data": {
      "text/plain": [
       "<Axes: >"
      ]
     },
     "execution_count": 5,
     "metadata": {},
     "output_type": "execute_result"
    },
    {
     "data": {
      "text/plain": [
       "<Figure size 640x480 with 1 Axes>"
      ],
      "image/png": "[encoded data removed]"
     },
     "metadata": {},
     "output_type": "display_data"
    }
   ],
   "execution_count": 5
  },
  {
   "cell_type": "code",
   "id": "4a522db9",
   "metadata": {
    "ExecuteTime": {
     "end_time": "2024-12-20T13:35:35.223091Z",
     "start_time": "2024-12-20T13:35:35.087828Z"
    }
   },
   "source": [
    "# distribution of \"survived\"\n",
    "passengers['2urvived'].hist(bins=2) "
   ],
   "outputs": [
    {
     "data": {
      "text/plain": [
       "<Axes: >"
      ]
     },
     "execution_count": 6,
     "metadata": {},
     "output_type": "execute_result"
    },
    {
     "data": {
      "text/plain": [
       "<Figure size 640x480 with 1 Axes>"
      ],
      "image/png": "[encoded data removed]"
     },
     "metadata": {},
     "output_type": "display_data"
    }
   ],
   "execution_count": 6
  },
  {
   "cell_type": "code",
   "id": "b71db296",
   "metadata": {
    "ExecuteTime": {
     "end_time": "2024-12-20T13:35:35.429874Z",
     "start_time": "2024-12-20T13:35:35.340711Z"
    }
   },
   "source": [
    "# distribution of Age\n",
    "passengers['Age'].plot.box() "
   ],
   "outputs": [
    {
     "data": {
      "text/plain": [
       "<Axes: >"
      ]
     },
     "execution_count": 7,
     "metadata": {},
     "output_type": "execute_result"
    },
    {
     "data": {
      "text/plain": [
       "<Figure size 640x480 with 1 Axes>"
      ],
      "image/png": "[encoded data removed]"
     },
     "metadata": {},
     "output_type": "display_data"
    }
   ],
   "execution_count": 7
  },
  {
   "cell_type": "code",
   "id": "99feebc0",
   "metadata": {
    "ExecuteTime": {
     "end_time": "2024-12-20T13:35:35.467534Z",
     "start_time": "2024-12-20T13:35:35.456636Z"
    }
   },
   "source": [
    "# removed empty columns and not needed \n",
    "passengers.drop(['Passengerid', 'zero', 'zero.1', 'zero.2', 'zero.3', 'zero.4', 'zero.5', 'zero.6', 'zero.7',\n",
    "                 'zero.8', 'zero.9', 'zero.10', 'zero.11', 'zero.12', 'zero.13', 'zero.14', 'zero.15', 'zero.16',\n",
    "                 'zero.17', 'zero.18'], axis=1, inplace = True)\n",
    "passengers"
   ],
   "outputs": [
    {
     "data": {
      "text/plain": [
       "       Age      Fare  Sex  sibsp  Parch  Pclass  Embarked  2urvived\n",
       "0     22.0    7.2500    0      1      0       3       2.0         0\n",
       "1     38.0   71.2833    1      1      0       1       0.0         1\n",
       "2     26.0    7.9250    1      0      0       3       2.0         1\n",
       "3     35.0   53.1000    1      1      0       1       2.0         1\n",
       "4     35.0    8.0500    0      0      0       3       2.0         0\n",
       "...    ...       ...  ...    ...    ...     ...       ...       ...\n",
       "1304  28.0    8.0500    0      0      0       3       2.0         0\n",
       "1305  39.0  108.9000    1      0      0       1       0.0         0\n",
       "1306  38.5    7.2500    0      0      0       3       2.0         0\n",
       "1307  28.0    8.0500    0      0      0       3       2.0         0\n",
       "1308  28.0   22.3583    0      1      1       3       0.0         0\n",
       "\n",
       "[1309 rows x 8 columns]"
      ],
      "text/html": [
       "<div>\n",
       "<style scoped>\n",
       "    .dataframe tbody tr th:only-of-type {\n",
       "        vertical-align: middle;\n",
       "    }\n",
       "\n",
       "    .dataframe tbody tr th {\n",
       "        vertical-align: top;\n",
       "    }\n",
       "\n",
       "    .dataframe thead th {\n",
       "        text-align: right;\n",
       "    }\n",
       "</style>\n",
       "<table border=\"1\" class=\"dataframe\">\n",
       "  <thead>\n",
       "    <tr style=\"text-align: right;\">\n",
       "      <th></th>\n",
       "      <th>Age</th>\n",
       "      <th>Fare</th>\n",
       "      <th>Sex</th>\n",
       "      <th>sibsp</th>\n",
       "      <th>Parch</th>\n",
       "      <th>Pclass</th>\n",
       "      <th>Embarked</th>\n",
       "      <th>2urvived</th>\n",
       "    </tr>\n",
       "  </thead>\n",
       "  <tbody>\n",
       "    <tr>\n",
       "      <th>0</th>\n",
       "      <td>22.0</td>\n",
       "      <td>7.2500</td>\n",
       "      <td>0</td>\n",
       "      <td>1</td>\n",
       "      <td>0</td>\n",
       "      <td>3</td>\n",
       "      <td>2.0</td>\n",
       "      <td>0</td>\n",
       "    </tr>\n",
       "    <tr>\n",
       "      <th>1</th>\n",
       "      <td>38.0</td>\n",
       "      <td>71.2833</td>\n",
       "      <td>1</td>\n",
       "      <td>1</td>\n",
       "      <td>0</td>\n",
       "      <td>1</td>\n",
       "      <td>0.0</td>\n",
       "      <td>1</td>\n",
       "    </tr>\n",
       "    <tr>\n",
       "      <th>2</th>\n",
       "      <td>26.0</td>\n",
       "      <td>7.9250</td>\n",
       "      <td>1</td>\n",
       "      <td>0</td>\n",
       "      <td>0</td>\n",
       "      <td>3</td>\n",
       "      <td>2.0</td>\n",
       "      <td>1</td>\n",
       "    </tr>\n",
       "    <tr>\n",
       "      <th>3</th>\n",
       "      <td>35.0</td>\n",
       "      <td>53.1000</td>\n",
       "      <td>1</td>\n",
       "      <td>1</td>\n",
       "      <td>0</td>\n",
       "      <td>1</td>\n",
       "      <td>2.0</td>\n",
       "      <td>1</td>\n",
       "    </tr>\n",
       "    <tr>\n",
       "      <th>4</th>\n",
       "      <td>35.0</td>\n",
       "      <td>8.0500</td>\n",
       "      <td>0</td>\n",
       "      <td>0</td>\n",
       "      <td>0</td>\n",
       "      <td>3</td>\n",
       "      <td>2.0</td>\n",
       "      <td>0</td>\n",
       "    </tr>\n",
       "    <tr>\n",
       "      <th>...</th>\n",
       "      <td>...</td>\n",
       "      <td>...</td>\n",
       "      <td>...</td>\n",
       "      <td>...</td>\n",
       "      <td>...</td>\n",
       "      <td>...</td>\n",
       "      <td>...</td>\n",
       "      <td>...</td>\n",
       "    </tr>\n",
       "    <tr>\n",
       "      <th>1304</th>\n",
       "      <td>28.0</td>\n",
       "      <td>8.0500</td>\n",
       "      <td>0</td>\n",
       "      <td>0</td>\n",
       "      <td>0</td>\n",
       "      <td>3</td>\n",
       "      <td>2.0</td>\n",
       "      <td>0</td>\n",
       "    </tr>\n",
       "    <tr>\n",
       "      <th>1305</th>\n",
       "      <td>39.0</td>\n",
       "      <td>108.9000</td>\n",
       "      <td>1</td>\n",
       "      <td>0</td>\n",
       "      <td>0</td>\n",
       "      <td>1</td>\n",
       "      <td>0.0</td>\n",
       "      <td>0</td>\n",
       "    </tr>\n",
       "    <tr>\n",
       "      <th>1306</th>\n",
       "      <td>38.5</td>\n",
       "      <td>7.2500</td>\n",
       "      <td>0</td>\n",
       "      <td>0</td>\n",
       "      <td>0</td>\n",
       "      <td>3</td>\n",
       "      <td>2.0</td>\n",
       "      <td>0</td>\n",
       "    </tr>\n",
       "    <tr>\n",
       "      <th>1307</th>\n",
       "      <td>28.0</td>\n",
       "      <td>8.0500</td>\n",
       "      <td>0</td>\n",
       "      <td>0</td>\n",
       "      <td>0</td>\n",
       "      <td>3</td>\n",
       "      <td>2.0</td>\n",
       "      <td>0</td>\n",
       "    </tr>\n",
       "    <tr>\n",
       "      <th>1308</th>\n",
       "      <td>28.0</td>\n",
       "      <td>22.3583</td>\n",
       "      <td>0</td>\n",
       "      <td>1</td>\n",
       "      <td>1</td>\n",
       "      <td>3</td>\n",
       "      <td>0.0</td>\n",
       "      <td>0</td>\n",
       "    </tr>\n",
       "  </tbody>\n",
       "</table>\n",
       "<p>1309 rows × 8 columns</p>\n",
       "</div>"
      ]
     },
     "execution_count": 8,
     "metadata": {},
     "output_type": "execute_result"
    }
   ],
   "execution_count": 8
  },
  {
   "cell_type": "code",
   "id": "cecb2e2e",
   "metadata": {
    "ExecuteTime": {
     "end_time": "2024-12-20T13:35:35.817436Z",
     "start_time": "2024-12-20T13:35:35.536232Z"
    }
   },
   "source": [
    "# generate correlation matrix\n",
    "\n",
    "correlations = passengers.corr()\n",
    "fig, ax = plt.subplots(figsize=(10, 10))\n",
    "\n",
    "colormap = sns.color_palette(\"BrBG\", 10)\n",
    "\n",
    "sns.heatmap(correlations, \n",
    "    cmap=colormap, \n",
    "    annot=True, \n",
    "    fmt=\".2f\")\n",
    "ax.set_yticklabels(passengers.columns);\n",
    "\n",
    "plt.show()\n",
    "\n",
    "# columns meanings:\n",
    "# Variable\tDefinition\tKey\n",
    "# survival \tSurvival \t0 = No, 1 = Yes\n",
    "# pclass \tTicket class \t1 = 1st, 2 = 2nd, 3 = 3rd\n",
    "# sex \tSex \t\n",
    "# Age \tAge in years \t\n",
    "# sibsp \t# of siblings / spouses aboard the Titanic \t\n",
    "# parch \t# of parents / children aboard the Titanic \t\n",
    "# ticket \tTicket number \t\n",
    "# fare \tPassenger fare \t\n",
    "# cabin \tCabin number \t\n",
    "# embarked \tPort of Embarkation \tC = Cherbourg, Q = Queenstown, S = Southampton"
   ],
   "outputs": [
    {
     "data": {
      "text/plain": [
       "<Figure size 1000x1000 with 2 Axes>"
      ],
      "image/png": "[encoded data removed]"
     },
     "metadata": {},
     "output_type": "display_data"
    }
   ],
   "execution_count": 9
  },
  {
   "cell_type": "code",
   "id": "aaa87baf",
   "metadata": {
    "ExecuteTime": {
     "end_time": "2024-12-20T13:35:35.873384Z",
     "start_time": "2024-12-20T13:35:35.867071Z"
    }
   },
   "source": [
    "# fill missing values\n",
    "passengers.fillna(passengers.mean(), inplace=True)\n",
    "passengersCopy = passengers.copy()"
   ],
   "outputs": [],
   "execution_count": 10
  },
  {
   "cell_type": "code",
   "id": "ed5f9735",
   "metadata": {
    "ExecuteTime": {
     "end_time": "2024-12-20T13:35:35.948633Z",
     "start_time": "2024-12-20T13:35:35.933732Z"
    }
   },
   "source": [
    "#what if some of columns were categorical instead numeric? \n",
    "maps = {\n",
    "    0: 'm',\n",
    "    1: 'w'\n",
    "}\n",
    "passengers['Sex'] = passengers['Sex'].apply(lambda x: maps[x])\n",
    "print(passengers)\n",
    "\n",
    "###################################################################\n",
    "\n",
    "maps = {\n",
    "    'm': 0,\n",
    "    'w': 1\n",
    "}\n",
    "passengers['Sex'] = passengers['Sex'].apply(lambda x: maps[x])\n",
    "passengers"
   ],
   "outputs": [
    {
     "name": "stdout",
     "output_type": "stream",
     "text": [
      "       Age      Fare Sex  sibsp  Parch  Pclass  Embarked  2urvived\n",
      "0     22.0    7.2500   m      1      0       3       2.0         0\n",
      "1     38.0   71.2833   w      1      0       1       0.0         1\n",
      "2     26.0    7.9250   w      0      0       3       2.0         1\n",
      "3     35.0   53.1000   w      1      0       1       2.0         1\n",
      "4     35.0    8.0500   m      0      0       3       2.0         0\n",
      "...    ...       ...  ..    ...    ...     ...       ...       ...\n",
      "1304  28.0    8.0500   m      0      0       3       2.0         0\n",
      "1305  39.0  108.9000   w      0      0       1       0.0         0\n",
      "1306  38.5    7.2500   m      0      0       3       2.0         0\n",
      "1307  28.0    8.0500   m      0      0       3       2.0         0\n",
      "1308  28.0   22.3583   m      1      1       3       0.0         0\n",
      "\n",
      "[1309 rows x 8 columns]\n"
     ]
    },
    {
     "data": {
      "text/plain": [
       "       Age      Fare  Sex  sibsp  Parch  Pclass  Embarked  2urvived\n",
       "0     22.0    7.2500    0      1      0       3       2.0         0\n",
       "1     38.0   71.2833    1      1      0       1       0.0         1\n",
       "2     26.0    7.9250    1      0      0       3       2.0         1\n",
       "3     35.0   53.1000    1      1      0       1       2.0         1\n",
       "4     35.0    8.0500    0      0      0       3       2.0         0\n",
       "...    ...       ...  ...    ...    ...     ...       ...       ...\n",
       "1304  28.0    8.0500    0      0      0       3       2.0         0\n",
       "1305  39.0  108.9000    1      0      0       1       0.0         0\n",
       "1306  38.5    7.2500    0      0      0       3       2.0         0\n",
       "1307  28.0    8.0500    0      0      0       3       2.0         0\n",
       "1308  28.0   22.3583    0      1      1       3       0.0         0\n",
       "\n",
       "[1309 rows x 8 columns]"
      ],
      "text/html": [
       "<div>\n",
       "<style scoped>\n",
       "    .dataframe tbody tr th:only-of-type {\n",
       "        vertical-align: middle;\n",
       "    }\n",
       "\n",
       "    .dataframe tbody tr th {\n",
       "        vertical-align: top;\n",
       "    }\n",
       "\n",
       "    .dataframe thead th {\n",
       "        text-align: right;\n",
       "    }\n",
       "</style>\n",
       "<table border=\"1\" class=\"dataframe\">\n",
       "  <thead>\n",
       "    <tr style=\"text-align: right;\">\n",
       "      <th></th>\n",
       "      <th>Age</th>\n",
       "      <th>Fare</th>\n",
       "      <th>Sex</th>\n",
       "      <th>sibsp</th>\n",
       "      <th>Parch</th>\n",
       "      <th>Pclass</th>\n",
       "      <th>Embarked</th>\n",
       "      <th>2urvived</th>\n",
       "    </tr>\n",
       "  </thead>\n",
       "  <tbody>\n",
       "    <tr>\n",
       "      <th>0</th>\n",
       "      <td>22.0</td>\n",
       "      <td>7.2500</td>\n",
       "      <td>0</td>\n",
       "      <td>1</td>\n",
       "      <td>0</td>\n",
       "      <td>3</td>\n",
       "      <td>2.0</td>\n",
       "      <td>0</td>\n",
       "    </tr>\n",
       "    <tr>\n",
       "      <th>1</th>\n",
       "      <td>38.0</td>\n",
       "      <td>71.2833</td>\n",
       "      <td>1</td>\n",
       "      <td>1</td>\n",
       "      <td>0</td>\n",
       "      <td>1</td>\n",
       "      <td>0.0</td>\n",
       "      <td>1</td>\n",
       "    </tr>\n",
       "    <tr>\n",
       "      <th>2</th>\n",
       "      <td>26.0</td>\n",
       "      <td>7.9250</td>\n",
       "      <td>1</td>\n",
       "      <td>0</td>\n",
       "      <td>0</td>\n",
       "      <td>3</td>\n",
       "      <td>2.0</td>\n",
       "      <td>1</td>\n",
       "    </tr>\n",
       "    <tr>\n",
       "      <th>3</th>\n",
       "      <td>35.0</td>\n",
       "      <td>53.1000</td>\n",
       "      <td>1</td>\n",
       "      <td>1</td>\n",
       "      <td>0</td>\n",
       "      <td>1</td>\n",
       "      <td>2.0</td>\n",
       "      <td>1</td>\n",
       "    </tr>\n",
       "    <tr>\n",
       "      <th>4</th>\n",
       "      <td>35.0</td>\n",
       "      <td>8.0500</td>\n",
       "      <td>0</td>\n",
       "      <td>0</td>\n",
       "      <td>0</td>\n",
       "      <td>3</td>\n",
       "      <td>2.0</td>\n",
       "      <td>0</td>\n",
       "    </tr>\n",
       "    <tr>\n",
       "      <th>...</th>\n",
       "      <td>...</td>\n",
       "      <td>...</td>\n",
       "      <td>...</td>\n",
       "      <td>...</td>\n",
       "      <td>...</td>\n",
       "      <td>...</td>\n",
       "      <td>...</td>\n",
       "      <td>...</td>\n",
       "    </tr>\n",
       "    <tr>\n",
       "      <th>1304</th>\n",
       "      <td>28.0</td>\n",
       "      <td>8.0500</td>\n",
       "      <td>0</td>\n",
       "      <td>0</td>\n",
       "      <td>0</td>\n",
       "      <td>3</td>\n",
       "      <td>2.0</td>\n",
       "      <td>0</td>\n",
       "    </tr>\n",
       "    <tr>\n",
       "      <th>1305</th>\n",
       "      <td>39.0</td>\n",
       "      <td>108.9000</td>\n",
       "      <td>1</td>\n",
       "      <td>0</td>\n",
       "      <td>0</td>\n",
       "      <td>1</td>\n",
       "      <td>0.0</td>\n",
       "      <td>0</td>\n",
       "    </tr>\n",
       "    <tr>\n",
       "      <th>1306</th>\n",
       "      <td>38.5</td>\n",
       "      <td>7.2500</td>\n",
       "      <td>0</td>\n",
       "      <td>0</td>\n",
       "      <td>0</td>\n",
       "      <td>3</td>\n",
       "      <td>2.0</td>\n",
       "      <td>0</td>\n",
       "    </tr>\n",
       "    <tr>\n",
       "      <th>1307</th>\n",
       "      <td>28.0</td>\n",
       "      <td>8.0500</td>\n",
       "      <td>0</td>\n",
       "      <td>0</td>\n",
       "      <td>0</td>\n",
       "      <td>3</td>\n",
       "      <td>2.0</td>\n",
       "      <td>0</td>\n",
       "    </tr>\n",
       "    <tr>\n",
       "      <th>1308</th>\n",
       "      <td>28.0</td>\n",
       "      <td>22.3583</td>\n",
       "      <td>0</td>\n",
       "      <td>1</td>\n",
       "      <td>1</td>\n",
       "      <td>3</td>\n",
       "      <td>0.0</td>\n",
       "      <td>0</td>\n",
       "    </tr>\n",
       "  </tbody>\n",
       "</table>\n",
       "<p>1309 rows × 8 columns</p>\n",
       "</div>"
      ]
     },
     "execution_count": 11,
     "metadata": {},
     "output_type": "execute_result"
    }
   ],
   "execution_count": 11
  },
  {
   "cell_type": "code",
   "id": "e1673cf7",
   "metadata": {
    "ExecuteTime": {
     "end_time": "2024-12-20T13:35:36.039048Z",
     "start_time": "2024-12-20T13:35:36.034735Z"
    }
   },
   "source": [
    "# create training set\n",
    "X = passengers.drop('2urvived', axis=1).to_numpy()\n",
    "X"
   ],
   "outputs": [
    {
     "data": {
      "text/plain": [
       "array([[22.    ,  7.25  ,  0.    , ...,  0.    ,  3.    ,  2.    ],\n",
       "       [38.    , 71.2833,  1.    , ...,  0.    ,  1.    ,  0.    ],\n",
       "       [26.    ,  7.925 ,  1.    , ...,  0.    ,  3.    ,  2.    ],\n",
       "       ...,\n",
       "       [38.5   ,  7.25  ,  0.    , ...,  0.    ,  3.    ,  2.    ],\n",
       "       [28.    ,  8.05  ,  0.    , ...,  0.    ,  3.    ,  2.    ],\n",
       "       [28.    , 22.3583,  0.    , ...,  1.    ,  3.    ,  0.    ]])"
      ]
     },
     "execution_count": 12,
     "metadata": {},
     "output_type": "execute_result"
    }
   ],
   "execution_count": 12
  },
  {
   "cell_type": "code",
   "id": "ec312504",
   "metadata": {
    "ExecuteTime": {
     "end_time": "2024-12-20T13:35:36.095192Z",
     "start_time": "2024-12-20T13:35:36.091667Z"
    }
   },
   "source": [
    "# create labels for training set\n",
    "y = passengers.loc[:, '2urvived'].to_numpy()\n",
    "y"
   ],
   "outputs": [
    {
     "data": {
      "text/plain": [
       "array([0, 1, 1, ..., 0, 0, 0])"
      ]
     },
     "execution_count": 13,
     "metadata": {},
     "output_type": "execute_result"
    }
   ],
   "execution_count": 13
  },
  {
   "cell_type": "code",
   "id": "62b7d54d",
   "metadata": {
    "ExecuteTime": {
     "end_time": "2024-12-20T13:35:36.242192Z",
     "start_time": "2024-12-20T13:35:36.239132Z"
    }
   },
   "source": [
    "# split data for training model and validation\n",
    "X_train, X_test, y_train, y_test = train_test_split(X, y, test_size=0.2, random_state=12345) "
   ],
   "outputs": [],
   "execution_count": 14
  },
  {
   "cell_type": "code",
   "id": "78556f08",
   "metadata": {
    "ExecuteTime": {
     "end_time": "2024-12-20T13:35:36.374983Z",
     "start_time": "2024-12-20T13:35:36.372420Z"
    }
   },
   "source": [
    "# universal method for training and evaluation of models\n",
    "\n",
    "def train_model(classifier, feature_vector_train, label, feature_vector_valid):\n",
    "    # train model\n",
    "    classifier.fit(feature_vector_train, label)\n",
    "    \n",
    "    # generate labels for validation set\n",
    "    predictions = classifier.predict(feature_vector_valid)\n",
    "    \n",
    "    # evealuate model based on test set labels\n",
    "    scores = list(metrics.precision_recall_fscore_support(predictions, y_test))\n",
    "    score_vals = [\n",
    "        scores[0][0],\n",
    "        scores[1][0],\n",
    "        scores[2][0]\n",
    "    ]\n",
    "    score_vals.append(metrics.accuracy_score(predictions, y_test))\n",
    "    return score_vals"
   ],
   "outputs": [],
   "execution_count": 15
  },
  {
   "cell_type": "code",
   "id": "dcd4da67",
   "metadata": {
    "ExecuteTime": {
     "end_time": "2024-12-20T13:35:36.480584Z",
     "start_time": "2024-12-20T13:35:36.460846Z"
    }
   },
   "source": [
    "# MODEL 1 - logistic regression\n",
    "accuracy = train_model(linear_model.LogisticRegression(), X_train, y_train, X_test)\n",
    "accuracy_compare = {'LR': accuracy}\n",
    "print (\"LR: \", accuracy)"
   ],
   "outputs": [
    {
     "name": "stdout",
     "output_type": "stream",
     "text": [
      "LR:  [0.9329896907216495, 0.8190045248868778, 0.8722891566265061, 0.7977099236641222]\n"
     ]
    }
   ],
   "execution_count": 16
  },
  {
   "cell_type": "code",
   "id": "30c497cc",
   "metadata": {
    "ExecuteTime": {
     "end_time": "2024-12-20T13:35:36.547144Z",
     "start_time": "2024-12-20T13:35:36.515319Z"
    }
   },
   "source": [
    "# MODEL 2 - Support Vector Machine\n",
    "accuracy = train_model(svm.SVC(), X_train, y_train, X_test)\n",
    "accuracy_compare['SVM'] = accuracy\n",
    "print (\"SVM\" , accuracy)"
   ],
   "outputs": [
    {
     "name": "stdout",
     "output_type": "stream",
     "text": [
      "SVM [0.979381443298969, 0.7509881422924901, 0.8501118568232662, 0.7442748091603053]\n"
     ]
    }
   ],
   "execution_count": 17
  },
  {
   "cell_type": "code",
   "id": "49654c3d",
   "metadata": {
    "ExecuteTime": {
     "end_time": "2024-12-20T13:35:36.737529Z",
     "start_time": "2024-12-20T13:35:36.580683Z"
    }
   },
   "source": [
    "# MODEL 3 - Random Forest Tree \n",
    "accuracy = train_model(ensemble.RandomForestClassifier(), X_train, y_train, X_test)\n",
    "accuracy_compare['RF'] = accuracy\n",
    "print (\"RF: \", accuracy)"
   ],
   "outputs": [
    {
     "name": "stdout",
     "output_type": "stream",
     "text": [
      "RF:  [0.8865979381443299, 0.8349514563106796, 0.86, 0.7862595419847328]\n"
     ]
    }
   ],
   "execution_count": 18
  },
  {
   "cell_type": "code",
   "id": "23bed1fe",
   "metadata": {
    "ExecuteTime": {
     "end_time": "2024-12-20T13:35:36.863950Z",
     "start_time": "2024-12-20T13:35:36.751822Z"
    }
   },
   "source": [
    "# compare models\n",
    "\n",
    "df_compare = pd.DataFrame(accuracy_compare, index = ['precision', 'recall', 'f1 score', 'accuracy'])\n",
    "df_compare.plot(kind='bar')"
   ],
   "outputs": [
    {
     "data": {
      "text/plain": [
       "<Axes: >"
      ]
     },
     "execution_count": 19,
     "metadata": {},
     "output_type": "execute_result"
    },
    {
     "data": {
      "text/plain": [
       "<Figure size 640x480 with 1 Axes>"
      ],
      "image/png": "[encoded data removed]"
     },
     "metadata": {},
     "output_type": "display_data"
    }
   ],
   "execution_count": 19
  },
  {
   "cell_type": "code",
   "id": "c346b09d",
   "metadata": {
    "ExecuteTime": {
     "end_time": "2024-12-20T13:35:37.549025Z",
     "start_time": "2024-12-20T13:35:36.877856Z"
    }
   },
   "source": [
    "# corrections and adjustments - use artificial neural network\n",
    "\n",
    "# MODEL 4 - neural network\n",
    "from sklearn.neural_network import MLPClassifier\n",
    "mlp = MLPClassifier(hidden_layer_sizes=(10, 10, 10), max_iter=1000)\n",
    "accuracy = train_model(mlp, X_train, y_train, X_test)\n",
    "accuracy_compare['neural network'] = accuracy\n",
    "print (\"neural network\" , accuracy)"
   ],
   "outputs": [
    {
     "name": "stdout",
     "output_type": "stream",
     "text": [
      "neural network [0.9175257731958762, 0.839622641509434, 0.8768472906403941, 0.8091603053435115]\n"
     ]
    }
   ],
   "execution_count": 20
  },
  {
   "cell_type": "code",
   "id": "c0e7636a",
   "metadata": {
    "ExecuteTime": {
     "end_time": "2024-12-20T13:35:37.568256Z",
     "start_time": "2024-12-20T13:35:37.565777Z"
    }
   },
   "source": [
    "#0.979381443298969, 0.7509881422924901, 0.8501118568232662, 0.7442748091603053]"
   ],
   "outputs": [],
   "execution_count": 21
  },
  {
   "cell_type": "code",
   "id": "0ddcdd18",
   "metadata": {
    "ExecuteTime": {
     "end_time": "2024-12-20T13:35:37.728035Z",
     "start_time": "2024-12-20T13:35:37.623012Z"
    }
   },
   "source": [
    "# corrections and adjustments - use different hyperparameters\n",
    "\n",
    "# MODEL 5 - Support Vector Machine\n",
    "accuracy = train_model(svm.SVC(gamma='auto'), X_train, y_train, X_test)\n",
    "accuracy_compare['SVM'] = accuracy\n",
    "print (\"SVM gamma='auto'\" , accuracy)\n",
    "\n",
    "# MODEL 6 - Support Vector Machine\n",
    "accuracy = train_model(svm.SVC(kernel='sigmoid'), X_train, y_train, X_test)\n",
    "accuracy_compare['SVM'] = accuracy\n",
    "print (\"SVM kernel='sigmoid'\" , accuracy)\n",
    "\n",
    "# MODEL 7 - Support Vector Machine\n",
    "accuracy = train_model(svm.SVC(degree=4), X_train, y_train, X_test)\n",
    "accuracy_compare['SVM'] = accuracy\n",
    "print (\"SVM degree=4\" , accuracy)"
   ],
   "outputs": [
    {
     "name": "stdout",
     "output_type": "stream",
     "text": [
      "SVM gamma='auto' [0.9639175257731959, 0.751004016064257, 0.8442437923250564, 0.7366412213740458]\n",
      "SVM kernel='sigmoid' [0.8608247422680413, 0.7660550458715596, 0.8106796116504854, 0.7022900763358778]\n",
      "SVM degree=4 [0.979381443298969, 0.7509881422924901, 0.8501118568232662, 0.7442748091603053]\n"
     ]
    }
   ],
   "execution_count": 22
  }
 ],
 "metadata": {
  "kernelspec": {
   "display_name": "Python 3 (ipykernel)",
   "language": "python",
   "name": "python3"
  },
  "language_info": {
   "codemirror_mode": {
    "name": "ipython",
    "version": 3
   },
   "file_extension": ".py",
   "mimetype": "text/x-python",
   "name": "python",
   "nbconvert_exporter": "python",
   "pygments_lexer": "ipython3",
   "version": "3.9.12"
  }
 },
 "nbformat": 4,
 "nbformat_minor": 5
}
